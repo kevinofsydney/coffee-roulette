{
 "cells": [
  {
   "cell_type": "markdown",
   "metadata": {},
   "source": [
    "# Coffee Roulette randomiser script\n",
    "\n",
    "Matching rules in order of priority:\n",
    "\n",
    "1. To meet someone new in Digital Delta (no repeats)\n",
    "2. To meet someone in a different legacy team\n",
    "3. To meet someone of a high seniority than you at least twice (out of four times) \n",
    "4. To meet someone of a different seniority to you"
   ]
  },
  {
   "cell_type": "code",
   "execution_count": 111,
   "metadata": {},
   "outputs": [],
   "source": [
    "import csv\n",
    "import pandas as pd\n",
    "import random"
   ]
  },
  {
   "cell_type": "code",
   "execution_count": 164,
   "metadata": {},
   "outputs": [],
   "source": [
    "class Drinker:\n",
    "    def __init__(self, cid, firstname, lastname, position, team):\n",
    "        self.id = cid\n",
    "        self.firstname = firstname\n",
    "        self.lastname = lastname\n",
    "        self.position = position\n",
    "        self.team = team\n",
    "        \n",
    "        # Store all previous matches here\n",
    "        self.edges = []\n",
    "        # Flag to say whether this person has already been matched in the current round\n",
    "        self.matched = False\n",
    "        # Counter of failures to match\n",
    "        self.fails = 0\n",
    "        \n",
    "        \n",
    "    def get_matches(self):\n",
    "        return self.edges\n",
    "    \n",
    "    \n",
    "    def add_match(self, Drinker):\n",
    "        self.edges.append(Drinker.id)\n",
    "        \n",
    "        \n",
    "    def info_string(self):\n",
    "        return self.firstname + \" \" + self.lastname + \" (\" + str(self.position) + \", \" + self.team + \")\""
   ]
  },
  {
   "cell_type": "code",
   "execution_count": 158,
   "metadata": {},
   "outputs": [
    {
     "name": "stdout",
     "output_type": "stream",
     "text": [
      "There are 8 keen coffee drinkers looking to be matched.\n"
     ]
    }
   ],
   "source": [
    "df = pd.read_csv('cr_participant_list.csv')\n",
    "#dfdata = ([df.columns.values.tolist()] + df.values.tolist())\n",
    "drinkers = []\n",
    "matches = []\n",
    "\n",
    "df = df.replace(\"Consultant\", 1)\n",
    "df = df.replace(\"Senior Consultant\", 2)\n",
    "df = df.replace(\"Manager\", 3)\n",
    "df = df.replace(\"Associate Director\", 4)\n",
    "df = df.replace(\"Director\", 5)\n",
    "\n",
    "for row in df.values.tolist():\n",
    "    person = Drinker(row[0], row[1], row[2], row[3], row[4])\n",
    "    drinkers.append(person)\n",
    "\n",
    "print(\"There are\", len(drinkers), \"keen coffee drinkers looking to be matched.\")\n",
    "# print(drinkers[0].firstname, drinkers[0].lastname, drinkers[0].position, drinkers[0].team, drinkers[0].edges)"
   ]
  },
  {
   "cell_type": "code",
   "execution_count": 159,
   "metadata": {},
   "outputs": [],
   "source": [
    "# Resetting the matches for testing purposes\n",
    "def reset():\n",
    "    for d in drinkers:\n",
    "        d.edges = []\n",
    "        d.matched = False\n",
    "        d.fails = 0"
   ]
  },
  {
   "cell_type": "code",
   "execution_count": 165,
   "metadata": {},
   "outputs": [],
   "source": [
    "def match_everyone():\n",
    "    # Attempt to match each person\n",
    "    \n",
    "    for d in drinkers:\n",
    "        print(\"INFO: Trying to find a match for\", d.firstname, d.lastname)\n",
    "\n",
    "        while not d.matched:\n",
    "            target = random.randint(0, (len(drinkers)-1))\n",
    "            # Drinker cannot be matched with themself\n",
    "            if target == d.id:\n",
    "                continue\n",
    "            \n",
    "            print(\"INFO: Target is\", drinkers[target].firstname, drinkers[target].lastname)\n",
    "\n",
    "            # If this drinker has met the target before\n",
    "            if target in d.edges:\n",
    "                print(\"INFO: Already matched before.\")\n",
    "                continue\n",
    "            # If all criteria has been met and the two are a good match\n",
    "            else:\n",
    "                d.matched = True\n",
    "                d.edges.append(target)\n",
    "                drinkers[target].matched = True\n",
    "                drinkers[target].edges.append(d.id)\n",
    "                f = d.info_string()\n",
    "                g = drinkers[target].info_string()\n",
    "                print(\"INFO:\", f, \"<-->\", g)"
   ]
  },
  {
   "cell_type": "code",
   "execution_count": 166,
   "metadata": {},
   "outputs": [
    {
     "name": "stdout",
     "output_type": "stream",
     "text": [
      "INFO: Trying to find a match for Kevin Gatdula\n",
      "INFO: Target is John Goward\n",
      "INFO: Kevin Gatdula (1, Digital Delta) <--> Kevin Gatdula (1, Digital Delta)\n",
      "INFO: Trying to find a match for William Huynh\n",
      "INFO: Target is Helena Wang\n",
      "INFO: Kevin Gatdula (1, Digital Delta) <--> Kevin Gatdula (1, Digital Delta)\n",
      "INFO: Trying to find a match for Joanne Kuk\n",
      "INFO: Target is Fergus McKinnon\n",
      "INFO: Kevin Gatdula (1, Digital Delta) <--> Kevin Gatdula (1, Digital Delta)\n",
      "INFO: Trying to find a match for John Goward\n",
      "INFO: Trying to find a match for Helena Wang\n",
      "INFO: Trying to find a match for Michael Buller\n",
      "INFO: Target is Fergus McKinnon\n",
      "INFO: Kevin Gatdula (1, Digital Delta) <--> Kevin Gatdula (1, Digital Delta)\n",
      "INFO: Trying to find a match for Fergus McKinnon\n",
      "INFO: Trying to find a match for Dean Taleb\n",
      "INFO: Target is Kevin Gatdula\n",
      "INFO: Kevin Gatdula (1, Digital Delta) <--> Kevin Gatdula (1, Digital Delta)\n"
     ]
    }
   ],
   "source": [
    "reset()\n",
    "match_everyone()"
   ]
  },
  {
   "cell_type": "code",
   "execution_count": null,
   "metadata": {},
   "outputs": [],
   "source": []
  }
 ],
 "metadata": {
  "kernelspec": {
   "display_name": "Python 3",
   "language": "python",
   "name": "python3"
  },
  "language_info": {
   "codemirror_mode": {
    "name": "ipython",
    "version": 3
   },
   "file_extension": ".py",
   "mimetype": "text/x-python",
   "name": "python",
   "nbconvert_exporter": "python",
   "pygments_lexer": "ipython3",
   "version": "3.7.4"
  }
 },
 "nbformat": 4,
 "nbformat_minor": 2
}
